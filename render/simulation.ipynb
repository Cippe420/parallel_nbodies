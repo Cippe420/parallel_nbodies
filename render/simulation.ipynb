{
 "cells": [
  {
   "cell_type": "code",
   "execution_count": 1,
   "metadata": {},
   "outputs": [],
   "source": [
    "import matplotlib.pyplot as plt\n",
    "\n",
    "colors=['blue','red','green','yellow','black','purple','orange','pink','brown','cyan']\n",
    "\n",
    "def plot_csv(x,y,acceleration_x,acceleration_y):\n",
    "\n",
    "    # Plot the data\n",
    "    plt.figure(figsize=(8, 6))\n",
    "    plt.xlim(-1e10,1e10)\n",
    "    plt.ylim(-1e10,1e10)\n",
    "    plt.scatter(x, y, color= colors[:2], marker='o', alpha=0.5)\n",
    "    # Add acceleration vectors\n",
    "    plt.quiver(x, y, acceleration_x, acceleration_y, angles='xy', scale_units='xy', scale=1, color='red', label='Acceleration')\n",
    "    plt.title('Scatter Plot of Data')\n",
    "    plt.xlabel('X')\n",
    "    plt.ylabel('Y')\n",
    "    plt.grid(True)\n",
    "    plt.show()\n",
    "\n"
   ]
  },
  {
   "cell_type": "code",
   "execution_count": 2,
   "metadata": {},
   "outputs": [],
   "source": [
    "def read_csv(file_name):\n",
    "    x = []\n",
    "    y = []\n",
    "    acceleration_x = []\n",
    "    acceleration_y = []\n",
    "    with open(file_name, 'r') as f:\n",
    "        for line in f:\n",
    "            if line == '\\n':\n",
    "                plot_csv(x,y,acceleration_x,acceleration_y)\n",
    "                x = []\n",
    "                y = []\n",
    "                acceleration_x = []\n",
    "                acceleration_y = []\n",
    "                continue\n",
    "            data = line.split(',')\n",
    "            x.append(float(data[0]))\n",
    "            y.append(float(data[1]))\n",
    "            acceleration_x.append(float(data[2]))\n",
    "            acceleration_y.append(float(data[3]))\n",
    "\n",
    "            \n",
    "    \n"
   ]
  },
  {
   "cell_type": "code",
   "execution_count": 3,
   "metadata": {},
   "outputs": [
    {
     "name": "stderr",
     "output_type": "stream",
     "text": [
      "/tmp/ipykernel_23012/3734368713.py:45: UserWarning: Attempting to set identical low and high xlims makes transformation singular; automatically expanding.\n",
      "  ax.set_xlim(-max(x)-(max(x)//4),max(x)+(max(x)//4))\n"
     ]
    },
    {
     "data": {
      "image/png": "[encoded data removed]",
      "text/plain": [
       "<Figure size 640x480 with 1 Axes>"
      ]
     },
     "metadata": {},
     "output_type": "display_data"
    }
   ],
   "source": [
    "import numpy as np\n",
    "import matplotlib.animation as animation \n",
    "\n",
    "x = np.array([])\n",
    "y = np.array([])\n",
    "acceleration_x = np.array([])\n",
    "acceleration_y = np.array([])\n",
    "\n",
    "file_name = '../BarnesHut_serial/data.csv'\n",
    "count = 0\n",
    "with open(file_name, 'r') as f:\n",
    "    tmp_x = np.array([])\n",
    "    tmp_y = np.array([])\n",
    "    tmp_acceleration_x = np.array([])\n",
    "    tmp_acceleration_y = np.array([])\n",
    "\n",
    "    # count the number of bodies\n",
    "    for line in f:\n",
    "        if line != '\\n':\n",
    "            count += 1\n",
    "        else:\n",
    "            break\n",
    "\n",
    "    for line in f:\n",
    "        if line == '\\n':\n",
    "            #plot_csv(x,y,acceleration_x,acceleration_y)\n",
    "            x = np.append(x,tmp_x)\n",
    "            y = np.append(y,tmp_y)\n",
    "            acceleration_x = np.append(acceleration_x,tmp_acceleration_x)\n",
    "            acceleration_y = np.append(acceleration_y,tmp_acceleration_y)\n",
    "            \n",
    "            tmp_x = np.array([])\n",
    "            tmp_y = np.array([])\n",
    "            tmp_acceleration_x = np.array([])\n",
    "            tmp_acceleration_y = np.array([])\n",
    "            continue\n",
    "        data = line.split(',')\n",
    "        tmp_x = np.append(tmp_x,float(data[0]))\n",
    "        tmp_y = np.append(tmp_y,float(data[1]))\n",
    "        tmp_acceleration_x=np.append(tmp_acceleration_x,float(data[2]))\n",
    "        tmp_acceleration_x=np.append(tmp_acceleration_y,float(data[3]))\n",
    "\n",
    "fig, ax = plt.subplots()\n",
    "\n",
    "ax.set_xlim(-max(x)-(max(x)//4),max(x)+(max(x)//4))\n",
    "ax.set_ylim(-max(y)-(max(y)//4),max(y)+(max(y)//4))\n",
    "scat = ax.scatter(x[0:count], y[0:count], color=colors[:count], marker='o', alpha=0.5)\n",
    "\n",
    "def update(frame):\n",
    "    x1 = x[frame:frame+count]\n",
    "    y1 = y[frame:frame+count]\n",
    "\n",
    "    data = np.stack([x1,y1]).T\n",
    "    scat.set_offsets(data)\n",
    "\n",
    "\n",
    "    return scat\n"
   ]
  },
  {
   "cell_type": "code",
   "execution_count": 4,
   "metadata": {},
   "outputs": [],
   "source": [
    "# FILE = '../serial_nbodies/data.csv'\n",
    "# read_csv(FILE)\n",
    "\n",
    "\n",
    "ani = animation.FuncAnimation(fig, func=update, frames=range(0,len(x)-count,count), interval=100)\n",
    "ani.save('animation.mp4', writer='ffmpeg', fps=10)\n",
    "plt.show()"
   ]
  }
 ],
 "metadata": {
  "kernelspec": {
   "display_name": "Python 3",
   "language": "python",
   "name": "python3"
  },
  "language_info": {
   "codemirror_mode": {
    "name": "ipython",
    "version": 3
   },
   "file_extension": ".py",
   "mimetype": "text/x-python",
   "name": "python",
   "nbconvert_exporter": "python",
   "pygments_lexer": "ipython3",
   "version": "3.10.12"
  }
 },
 "nbformat": 4,
 "nbformat_minor": 2
}
